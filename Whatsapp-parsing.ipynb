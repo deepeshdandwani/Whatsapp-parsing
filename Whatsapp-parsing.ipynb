{
  "nbformat": 4,
  "nbformat_minor": 0,
  "metadata": {
    "colab": {
      "provenance": [],
      "authorship_tag": "ABX9TyMMoVYMyIbA5LDPtIKtBShV",
      "include_colab_link": true
    },
    "kernelspec": {
      "name": "python3",
      "display_name": "Python 3"
    },
    "language_info": {
      "name": "python"
    }
  },
  "cells": [
    {
      "cell_type": "markdown",
      "metadata": {
        "id": "view-in-github",
        "colab_type": "text"
      },
      "source": [
        "<a href=\"https://colab.research.google.com/github/deepeshdandwani/Whatsapp-parsing/blob/main/Whatsapp-parsing.ipynb\" target=\"_parent\"><img src=\"https://colab.research.google.com/assets/colab-badge.svg\" alt=\"Open In Colab\"/></a>"
      ]
    },
    {
      "cell_type": "markdown",
      "source": [
        "new test\n"
      ],
      "metadata": {
        "id": "TpCgNDjUmB9z"
      }
    },
    {
      "cell_type": "code",
      "source": [],
      "metadata": {
        "id": "RQ3pjub-mD4o"
      },
      "execution_count": null,
      "outputs": []
    },
    {
      "cell_type": "code",
      "source": [
        "import regex\n",
        "import pandas as pd\n",
        "import numpy as np\n",
        "!pip install emoji\n",
        "import emoji\n",
        "from collections import Counter\n",
        "import matplotlib.pyplot as plt\n",
        "from wordcloud import WordCloud, STOPWORDS, ImageColorGenerator\n",
        "from matplotlib.ticker import MaxNLocator\n",
        "from plotly import express as px\n",
        "import seaborn as sns\n",
        "from datetime import *\n",
        "import datetime as dt"
      ],
      "metadata": {
        "id": "qnyqoVhpmEcX",
        "colab": {
          "base_uri": "https://localhost:8080/"
        },
        "outputId": "f1668347-327b-435f-dedc-85790a053c29"
      },
      "execution_count": null,
      "outputs": [
        {
          "output_type": "stream",
          "name": "stdout",
          "text": [
            "Looking in indexes: https://pypi.org/simple, https://us-python.pkg.dev/colab-wheels/public/simple/\n",
            "Requirement already satisfied: emoji in /usr/local/lib/python3.9/dist-packages (2.2.0)\n"
          ]
        }
      ]
    },
    {
      "cell_type": "code",
      "source": [
        "def startsWithDate(s):\n",
        "    pattern = '^([0-9]+)(\\/)([0-9]+)(\\/)([0-9]+), ([0-9]+):([0-9]+)[ ]?(AM|PM|am|pm)? -'\n",
        "    result = regex.match(pattern, s)\n",
        "    if result:\n",
        "        return True\n",
        "    return False"
      ],
      "metadata": {
        "id": "V8c3CRYqmEgV"
      },
      "execution_count": null,
      "outputs": []
    },
    {
      "cell_type": "code",
      "source": [],
      "metadata": {
        "id": "58q8DLGhxAs0"
      },
      "execution_count": null,
      "outputs": []
    },
    {
      "cell_type": "code",
      "source": [
        "\n",
        "def startsWithAuthor(s):\n",
        "    patterns = [\n",
        "        '([\\w]+):',                        # First Name\n",
        "        '([\\w]+[\\s]+[\\w]+):',              # First Name + Last Name\n",
        "        '([\\w]+[\\s]+[\\w]+[\\s]+[\\w]+):',    # First Name + Middle Name + Last Name\n",
        "        '([+]\\d{2} \\d{5} \\d{5}):',         # Mobile Number (India)\n",
        "        '([+]\\d{2} \\d{3} \\d{3} \\d{4}):',   # Mobile Number (US)\n",
        "        '([+]\\d{2} \\d{4} \\d{7})'           # Mobile Number (Europe)\n",
        "    ]\n",
        "    pattern = '^' + '|'.join(patterns)\n",
        "    result = regex.match(pattern, s)\n",
        "    if result:\n",
        "        return True\n",
        "    return False"
      ],
      "metadata": {
        "id": "KZkcqltqmOXG"
      },
      "execution_count": null,
      "outputs": []
    },
    {
      "cell_type": "code",
      "source": [
        "\n",
        "def getDatapoint(line):\n",
        "    splitline = line.split(' - ')\n",
        "    dateTime = splitline[0]\n",
        "    date, time = dateTime.split(\", \")\n",
        "    message = \" \".join(splitline[1:])\n",
        "    if startsWithAuthor(message):\n",
        "        splitmessage = message.split(\": \")\n",
        "        author = splitmessage[0]\n",
        "        message = \" \".join(splitmessage[1:])\n",
        "    else:\n",
        "        author= None\n",
        "    return date, time, author, message"
      ],
      "metadata": {
        "id": "SLPcC8NWmOgm"
      },
      "execution_count": null,
      "outputs": []
    },
    {
      "cell_type": "code",
      "source": [
        "data = []\n",
        "conversation = '/content/WhatsApp2.txt'\n",
        "with open(conversation, encoding=\"utf-8\") as fp:\n",
        "    fp.readline()\n",
        "    messageBuffer = []\n",
        "    date, time, author = None, None, None\n",
        "    while True:\n",
        "        line = fp.readline()\n",
        "        if not line:\n",
        "            break\n",
        "        line = line.strip()\n",
        "        if startsWithDate(line):\n",
        "            if len(messageBuffer) > 0:\n",
        "                data.append([date, time, author, ' '.join(messageBuffer)])\n",
        "            messageBuffer.clear()\n",
        "            date, time, author, message = getDatapoint(line)\n",
        "            messageBuffer.append(message)\n",
        "        else:\n",
        "            messageBuffer.append(line)"
      ],
      "metadata": {
        "id": "CGLYTOwTmS7A"
      },
      "execution_count": null,
      "outputs": []
    },
    {
      "cell_type": "code",
      "source": [
        "\n",
        "df = pd.DataFrame(data, columns=[\"Date\", 'Time', 'Author', 'Message'])\n",
        "df['Date'] = pd.to_datetime(df['Date'])"
      ],
      "metadata": {
        "id": "NJsy4ToqmTDu"
      },
      "execution_count": null,
      "outputs": []
    },
    {
      "cell_type": "code",
      "source": [
        "\n",
        "df"
      ],
      "metadata": {
        "colab": {
          "base_uri": "https://localhost:8080/",
          "height": 424
        },
        "id": "jYeP5LuemYem",
        "outputId": "0b6ae83a-93e6-4cef-a380-39cb28fe0104"
      },
      "execution_count": null,
      "outputs": [
        {
          "output_type": "execute_result",
          "data": {
            "text/plain": [
              "            Date   Time           Author  \\\n",
              "0     2020-06-20  10:36             None   \n",
              "1     2022-09-04  07:27             None   \n",
              "2     2022-09-04  07:41  +91 98292 44229   \n",
              "3     2022-09-04  07:43  +91 98292 44229   \n",
              "4     2022-09-04  13:26  +91 94604 20082   \n",
              "...          ...    ...              ...   \n",
              "12354 2023-03-16  06:53  +91 77930 26488   \n",
              "12355 2023-03-16  09:05             None   \n",
              "12356 2023-03-16  10:22  +91 94149 21976   \n",
              "12357 2023-03-16  11:44  +91 94149 21976   \n",
              "12358 2023-03-16  12:18  +91 78777 51125   \n",
              "\n",
              "                                                 Message  \n",
              "0      +91 94614 15162 created group \"RSSB satsang at...  \n",
              "1                                Anil Uncle Rs added you  \n",
              "2                                        <Media omitted>  \n",
              "3                                        <Media omitted>  \n",
              "4                                          Radhaswami ji  \n",
              "...                                                  ...  \n",
              "12354                                     Radha swami ji  \n",
              "12355  Your security code with +91 99833 47711 change...  \n",
              "12356                                    <Media omitted>  \n",
              "12357                                    <Media omitted>  \n",
              "12358                                    <Media omitted>  \n",
              "\n",
              "[12359 rows x 4 columns]"
            ],
            "text/html": [
              "\n",
              "  <div id=\"df-bfb00a8a-9b6c-4eb3-813c-e9860e9ffd8c\">\n",
              "    <div class=\"colab-df-container\">\n",
              "      <div>\n",
              "<style scoped>\n",
              "    .dataframe tbody tr th:only-of-type {\n",
              "        vertical-align: middle;\n",
              "    }\n",
              "\n",
              "    .dataframe tbody tr th {\n",
              "        vertical-align: top;\n",
              "    }\n",
              "\n",
              "    .dataframe thead th {\n",
              "        text-align: right;\n",
              "    }\n",
              "</style>\n",
              "<table border=\"1\" class=\"dataframe\">\n",
              "  <thead>\n",
              "    <tr style=\"text-align: right;\">\n",
              "      <th></th>\n",
              "      <th>Date</th>\n",
              "      <th>Time</th>\n",
              "      <th>Author</th>\n",
              "      <th>Message</th>\n",
              "    </tr>\n",
              "  </thead>\n",
              "  <tbody>\n",
              "    <tr>\n",
              "      <th>0</th>\n",
              "      <td>2020-06-20</td>\n",
              "      <td>10:36</td>\n",
              "      <td>None</td>\n",
              "      <td>+91 94614 15162 created group \"RSSB satsang at...</td>\n",
              "    </tr>\n",
              "    <tr>\n",
              "      <th>1</th>\n",
              "      <td>2022-09-04</td>\n",
              "      <td>07:27</td>\n",
              "      <td>None</td>\n",
              "      <td>Anil Uncle Rs added you</td>\n",
              "    </tr>\n",
              "    <tr>\n",
              "      <th>2</th>\n",
              "      <td>2022-09-04</td>\n",
              "      <td>07:41</td>\n",
              "      <td>+91 98292 44229</td>\n",
              "      <td>&lt;Media omitted&gt;</td>\n",
              "    </tr>\n",
              "    <tr>\n",
              "      <th>3</th>\n",
              "      <td>2022-09-04</td>\n",
              "      <td>07:43</td>\n",
              "      <td>+91 98292 44229</td>\n",
              "      <td>&lt;Media omitted&gt;</td>\n",
              "    </tr>\n",
              "    <tr>\n",
              "      <th>4</th>\n",
              "      <td>2022-09-04</td>\n",
              "      <td>13:26</td>\n",
              "      <td>+91 94604 20082</td>\n",
              "      <td>Radhaswami ji</td>\n",
              "    </tr>\n",
              "    <tr>\n",
              "      <th>...</th>\n",
              "      <td>...</td>\n",
              "      <td>...</td>\n",
              "      <td>...</td>\n",
              "      <td>...</td>\n",
              "    </tr>\n",
              "    <tr>\n",
              "      <th>12354</th>\n",
              "      <td>2023-03-16</td>\n",
              "      <td>06:53</td>\n",
              "      <td>+91 77930 26488</td>\n",
              "      <td>Radha swami ji</td>\n",
              "    </tr>\n",
              "    <tr>\n",
              "      <th>12355</th>\n",
              "      <td>2023-03-16</td>\n",
              "      <td>09:05</td>\n",
              "      <td>None</td>\n",
              "      <td>Your security code with +91 99833 47711 change...</td>\n",
              "    </tr>\n",
              "    <tr>\n",
              "      <th>12356</th>\n",
              "      <td>2023-03-16</td>\n",
              "      <td>10:22</td>\n",
              "      <td>+91 94149 21976</td>\n",
              "      <td>&lt;Media omitted&gt;</td>\n",
              "    </tr>\n",
              "    <tr>\n",
              "      <th>12357</th>\n",
              "      <td>2023-03-16</td>\n",
              "      <td>11:44</td>\n",
              "      <td>+91 94149 21976</td>\n",
              "      <td>&lt;Media omitted&gt;</td>\n",
              "    </tr>\n",
              "    <tr>\n",
              "      <th>12358</th>\n",
              "      <td>2023-03-16</td>\n",
              "      <td>12:18</td>\n",
              "      <td>+91 78777 51125</td>\n",
              "      <td>&lt;Media omitted&gt;</td>\n",
              "    </tr>\n",
              "  </tbody>\n",
              "</table>\n",
              "<p>12359 rows × 4 columns</p>\n",
              "</div>\n",
              "      <button class=\"colab-df-convert\" onclick=\"convertToInteractive('df-bfb00a8a-9b6c-4eb3-813c-e9860e9ffd8c')\"\n",
              "              title=\"Convert this dataframe to an interactive table.\"\n",
              "              style=\"display:none;\">\n",
              "        \n",
              "  <svg xmlns=\"http://www.w3.org/2000/svg\" height=\"24px\"viewBox=\"0 0 24 24\"\n",
              "       width=\"24px\">\n",
              "    <path d=\"M0 0h24v24H0V0z\" fill=\"none\"/>\n",
              "    <path d=\"M18.56 5.44l.94 2.06.94-2.06 2.06-.94-2.06-.94-.94-2.06-.94 2.06-2.06.94zm-11 1L8.5 8.5l.94-2.06 2.06-.94-2.06-.94L8.5 2.5l-.94 2.06-2.06.94zm10 10l.94 2.06.94-2.06 2.06-.94-2.06-.94-.94-2.06-.94 2.06-2.06.94z\"/><path d=\"M17.41 7.96l-1.37-1.37c-.4-.4-.92-.59-1.43-.59-.52 0-1.04.2-1.43.59L10.3 9.45l-7.72 7.72c-.78.78-.78 2.05 0 2.83L4 21.41c.39.39.9.59 1.41.59.51 0 1.02-.2 1.41-.59l7.78-7.78 2.81-2.81c.8-.78.8-2.07 0-2.86zM5.41 20L4 18.59l7.72-7.72 1.47 1.35L5.41 20z\"/>\n",
              "  </svg>\n",
              "      </button>\n",
              "      \n",
              "  <style>\n",
              "    .colab-df-container {\n",
              "      display:flex;\n",
              "      flex-wrap:wrap;\n",
              "      gap: 12px;\n",
              "    }\n",
              "\n",
              "    .colab-df-convert {\n",
              "      background-color: #E8F0FE;\n",
              "      border: none;\n",
              "      border-radius: 50%;\n",
              "      cursor: pointer;\n",
              "      display: none;\n",
              "      fill: #1967D2;\n",
              "      height: 32px;\n",
              "      padding: 0 0 0 0;\n",
              "      width: 32px;\n",
              "    }\n",
              "\n",
              "    .colab-df-convert:hover {\n",
              "      background-color: #E2EBFA;\n",
              "      box-shadow: 0px 1px 2px rgba(60, 64, 67, 0.3), 0px 1px 3px 1px rgba(60, 64, 67, 0.15);\n",
              "      fill: #174EA6;\n",
              "    }\n",
              "\n",
              "    [theme=dark] .colab-df-convert {\n",
              "      background-color: #3B4455;\n",
              "      fill: #D2E3FC;\n",
              "    }\n",
              "\n",
              "    [theme=dark] .colab-df-convert:hover {\n",
              "      background-color: #434B5C;\n",
              "      box-shadow: 0px 1px 3px 1px rgba(0, 0, 0, 0.15);\n",
              "      filter: drop-shadow(0px 1px 2px rgba(0, 0, 0, 0.3));\n",
              "      fill: #FFFFFF;\n",
              "    }\n",
              "  </style>\n",
              "\n",
              "      <script>\n",
              "        const buttonEl =\n",
              "          document.querySelector('#df-bfb00a8a-9b6c-4eb3-813c-e9860e9ffd8c button.colab-df-convert');\n",
              "        buttonEl.style.display =\n",
              "          google.colab.kernel.accessAllowed ? 'block' : 'none';\n",
              "\n",
              "        async function convertToInteractive(key) {\n",
              "          const element = document.querySelector('#df-bfb00a8a-9b6c-4eb3-813c-e9860e9ffd8c');\n",
              "          const dataTable =\n",
              "            await google.colab.kernel.invokeFunction('convertToInteractive',\n",
              "                                                     [key], {});\n",
              "          if (!dataTable) return;\n",
              "\n",
              "          const docLinkHtml = 'Like what you see? Visit the ' +\n",
              "            '<a target=\"_blank\" href=https://colab.research.google.com/notebooks/data_table.ipynb>data table notebook</a>'\n",
              "            + ' to learn more about interactive tables.';\n",
              "          element.innerHTML = '';\n",
              "          dataTable['output_type'] = 'display_data';\n",
              "          await google.colab.output.renderOutput(dataTable, element);\n",
              "          const docLink = document.createElement('div');\n",
              "          docLink.innerHTML = docLinkHtml;\n",
              "          element.appendChild(docLink);\n",
              "        }\n",
              "      </script>\n",
              "    </div>\n",
              "  </div>\n",
              "  "
            ]
          },
          "metadata": {},
          "execution_count": 54
        }
      ]
    },
    {
      "cell_type": "code",
      "source": [
        "df.tail()"
      ],
      "metadata": {
        "colab": {
          "base_uri": "https://localhost:8080/",
          "height": 206
        },
        "id": "2BnkilCBndpS",
        "outputId": "15faa53d-5bdd-411b-aded-80cc0d76e753"
      },
      "execution_count": null,
      "outputs": [
        {
          "output_type": "execute_result",
          "data": {
            "text/plain": [
              "            Date   Time           Author  \\\n",
              "12354 2023-03-16  06:53  +91 77930 26488   \n",
              "12355 2023-03-16  09:05             None   \n",
              "12356 2023-03-16  10:22  +91 94149 21976   \n",
              "12357 2023-03-16  11:44  +91 94149 21976   \n",
              "12358 2023-03-16  12:18  +91 78777 51125   \n",
              "\n",
              "                                                 Message  \n",
              "12354                                     Radha swami ji  \n",
              "12355  Your security code with +91 99833 47711 change...  \n",
              "12356                                    <Media omitted>  \n",
              "12357                                    <Media omitted>  \n",
              "12358                                    <Media omitted>  "
            ],
            "text/html": [
              "\n",
              "  <div id=\"df-eebef50e-f696-4bfc-a60e-0a93f7bd2d46\">\n",
              "    <div class=\"colab-df-container\">\n",
              "      <div>\n",
              "<style scoped>\n",
              "    .dataframe tbody tr th:only-of-type {\n",
              "        vertical-align: middle;\n",
              "    }\n",
              "\n",
              "    .dataframe tbody tr th {\n",
              "        vertical-align: top;\n",
              "    }\n",
              "\n",
              "    .dataframe thead th {\n",
              "        text-align: right;\n",
              "    }\n",
              "</style>\n",
              "<table border=\"1\" class=\"dataframe\">\n",
              "  <thead>\n",
              "    <tr style=\"text-align: right;\">\n",
              "      <th></th>\n",
              "      <th>Date</th>\n",
              "      <th>Time</th>\n",
              "      <th>Author</th>\n",
              "      <th>Message</th>\n",
              "    </tr>\n",
              "  </thead>\n",
              "  <tbody>\n",
              "    <tr>\n",
              "      <th>12354</th>\n",
              "      <td>2023-03-16</td>\n",
              "      <td>06:53</td>\n",
              "      <td>+91 77930 26488</td>\n",
              "      <td>Radha swami ji</td>\n",
              "    </tr>\n",
              "    <tr>\n",
              "      <th>12355</th>\n",
              "      <td>2023-03-16</td>\n",
              "      <td>09:05</td>\n",
              "      <td>None</td>\n",
              "      <td>Your security code with +91 99833 47711 change...</td>\n",
              "    </tr>\n",
              "    <tr>\n",
              "      <th>12356</th>\n",
              "      <td>2023-03-16</td>\n",
              "      <td>10:22</td>\n",
              "      <td>+91 94149 21976</td>\n",
              "      <td>&lt;Media omitted&gt;</td>\n",
              "    </tr>\n",
              "    <tr>\n",
              "      <th>12357</th>\n",
              "      <td>2023-03-16</td>\n",
              "      <td>11:44</td>\n",
              "      <td>+91 94149 21976</td>\n",
              "      <td>&lt;Media omitted&gt;</td>\n",
              "    </tr>\n",
              "    <tr>\n",
              "      <th>12358</th>\n",
              "      <td>2023-03-16</td>\n",
              "      <td>12:18</td>\n",
              "      <td>+91 78777 51125</td>\n",
              "      <td>&lt;Media omitted&gt;</td>\n",
              "    </tr>\n",
              "  </tbody>\n",
              "</table>\n",
              "</div>\n",
              "      <button class=\"colab-df-convert\" onclick=\"convertToInteractive('df-eebef50e-f696-4bfc-a60e-0a93f7bd2d46')\"\n",
              "              title=\"Convert this dataframe to an interactive table.\"\n",
              "              style=\"display:none;\">\n",
              "        \n",
              "  <svg xmlns=\"http://www.w3.org/2000/svg\" height=\"24px\"viewBox=\"0 0 24 24\"\n",
              "       width=\"24px\">\n",
              "    <path d=\"M0 0h24v24H0V0z\" fill=\"none\"/>\n",
              "    <path d=\"M18.56 5.44l.94 2.06.94-2.06 2.06-.94-2.06-.94-.94-2.06-.94 2.06-2.06.94zm-11 1L8.5 8.5l.94-2.06 2.06-.94-2.06-.94L8.5 2.5l-.94 2.06-2.06.94zm10 10l.94 2.06.94-2.06 2.06-.94-2.06-.94-.94-2.06-.94 2.06-2.06.94z\"/><path d=\"M17.41 7.96l-1.37-1.37c-.4-.4-.92-.59-1.43-.59-.52 0-1.04.2-1.43.59L10.3 9.45l-7.72 7.72c-.78.78-.78 2.05 0 2.83L4 21.41c.39.39.9.59 1.41.59.51 0 1.02-.2 1.41-.59l7.78-7.78 2.81-2.81c.8-.78.8-2.07 0-2.86zM5.41 20L4 18.59l7.72-7.72 1.47 1.35L5.41 20z\"/>\n",
              "  </svg>\n",
              "      </button>\n",
              "      \n",
              "  <style>\n",
              "    .colab-df-container {\n",
              "      display:flex;\n",
              "      flex-wrap:wrap;\n",
              "      gap: 12px;\n",
              "    }\n",
              "\n",
              "    .colab-df-convert {\n",
              "      background-color: #E8F0FE;\n",
              "      border: none;\n",
              "      border-radius: 50%;\n",
              "      cursor: pointer;\n",
              "      display: none;\n",
              "      fill: #1967D2;\n",
              "      height: 32px;\n",
              "      padding: 0 0 0 0;\n",
              "      width: 32px;\n",
              "    }\n",
              "\n",
              "    .colab-df-convert:hover {\n",
              "      background-color: #E2EBFA;\n",
              "      box-shadow: 0px 1px 2px rgba(60, 64, 67, 0.3), 0px 1px 3px 1px rgba(60, 64, 67, 0.15);\n",
              "      fill: #174EA6;\n",
              "    }\n",
              "\n",
              "    [theme=dark] .colab-df-convert {\n",
              "      background-color: #3B4455;\n",
              "      fill: #D2E3FC;\n",
              "    }\n",
              "\n",
              "    [theme=dark] .colab-df-convert:hover {\n",
              "      background-color: #434B5C;\n",
              "      box-shadow: 0px 1px 3px 1px rgba(0, 0, 0, 0.15);\n",
              "      filter: drop-shadow(0px 1px 2px rgba(0, 0, 0, 0.3));\n",
              "      fill: #FFFFFF;\n",
              "    }\n",
              "  </style>\n",
              "\n",
              "      <script>\n",
              "        const buttonEl =\n",
              "          document.querySelector('#df-eebef50e-f696-4bfc-a60e-0a93f7bd2d46 button.colab-df-convert');\n",
              "        buttonEl.style.display =\n",
              "          google.colab.kernel.accessAllowed ? 'block' : 'none';\n",
              "\n",
              "        async function convertToInteractive(key) {\n",
              "          const element = document.querySelector('#df-eebef50e-f696-4bfc-a60e-0a93f7bd2d46');\n",
              "          const dataTable =\n",
              "            await google.colab.kernel.invokeFunction('convertToInteractive',\n",
              "                                                     [key], {});\n",
              "          if (!dataTable) return;\n",
              "\n",
              "          const docLinkHtml = 'Like what you see? Visit the ' +\n",
              "            '<a target=\"_blank\" href=https://colab.research.google.com/notebooks/data_table.ipynb>data table notebook</a>'\n",
              "            + ' to learn more about interactive tables.';\n",
              "          element.innerHTML = '';\n",
              "          dataTable['output_type'] = 'display_data';\n",
              "          await google.colab.output.renderOutput(dataTable, element);\n",
              "          const docLink = document.createElement('div');\n",
              "          docLink.innerHTML = docLinkHtml;\n",
              "          element.appendChild(docLink);\n",
              "        }\n",
              "      </script>\n",
              "    </div>\n",
              "  </div>\n",
              "  "
            ]
          },
          "metadata": {},
          "execution_count": 55
        }
      ]
    },
    {
      "cell_type": "code",
      "source": [
        "df.tail().to_csv('data.csv')"
      ],
      "metadata": {
        "id": "hdmglvwMxB2i"
      },
      "execution_count": null,
      "outputs": []
    },
    {
      "cell_type": "code",
      "source": [
        "df.timefilter = df[df[\"Date\"].between('2023-3-14','2023-3-16')]"
      ],
      "metadata": {
        "id": "WLzcMXcSHV5T",
        "colab": {
          "base_uri": "https://localhost:8080/"
        },
        "outputId": "55ffc76b-8d2c-41c5-8992-de8783454264"
      },
      "execution_count": null,
      "outputs": [
        {
          "output_type": "stream",
          "name": "stderr",
          "text": [
            "<ipython-input-57-1f999c53c789>:1: UserWarning: Pandas doesn't allow columns to be created via a new attribute name - see https://pandas.pydata.org/pandas-docs/stable/indexing.html#attribute-access\n",
            "  df.timefilter = df[df[\"Date\"].between('2023-3-14','2023-3-16')]\n"
          ]
        }
      ]
    },
    {
      "cell_type": "code",
      "source": [
        "df.timefilter.to_csv('data1.csv')"
      ],
      "metadata": {
        "id": "3o_AOpAyJZQ0"
      },
      "execution_count": null,
      "outputs": []
    },
    {
      "cell_type": "code",
      "source": [
        "import csv"
      ],
      "metadata": {
        "id": "tMRy2YK9x-kk"
      },
      "execution_count": null,
      "outputs": []
    },
    {
      "cell_type": "code",
      "source": [
        "def keywords():\n",
        "  keyword=input('Enter the keyword to search\\n')\n",
        "  csv_file=csv.reader(open('/content/data1.csv','r'))\n",
        "  for row in csv_file:\n",
        "      if keyword in row[4]:\n",
        "        print(row[4])\n",
        "\n",
        "    \n"
      ],
      "metadata": {
        "id": "N7xD0RbHx-nf"
      },
      "execution_count": null,
      "outputs": []
    },
    {
      "cell_type": "code",
      "source": [
        "print('Enter one to serch by keyword\\n')\n",
        "src=int(input('Enter here:\\n'))\n",
        "\n",
        "if src==1:\n",
        "  keywords()"
      ],
      "metadata": {
        "colab": {
          "base_uri": "https://localhost:8080/"
        },
        "id": "E8vXnaIj9OcZ",
        "outputId": "994e68c1-71fe-450e-f089-5e81faa0eb9e"
      },
      "execution_count": null,
      "outputs": [
        {
          "output_type": "stream",
          "name": "stdout",
          "text": [
            "Enter one to serch by keyword\n",
            "\n",
            "Enter here:\n",
            "1\n",
            "Enter the keyword to search\n",
            "ji\n",
            "Radha swami ji\n",
            "Radha Soami ji 🙏\n",
            "Radha swami ji\n",
            "*मनुष्य जन्म का उद्देश्य*  परमात्मा ने सृष्टि की रचना करके इसे चौरासी लाख योनियों में बाँटा है।कई लाख प्रकार के व्रक्ष, कई प्रकार के कीड़े-पतंगें,कई लाख प्रकार के पक्षी,कई लाख प्रकार के पानी के जीव,कई लाख प्रकार के पशु,कई लाख प्रकार के भूत-प्रेत, यक्ष, किन्नर, गन्धर्व,देवी-देवता,इसांन आदि हम अपने कर्मो के अनुसार इस चौरासी के जेलखानों में फँसे हुए है।हमारी आत्मा परमात्मा से मिलकर ही इस जेलखाने से निकल सकती है और परमात्मा हमें यह मनुष्य-चोला केवल इसी लिए बख्शता है कि हम उसकी भक्ति करके देह के बंधनों से छुटकारा पा सकें।अगर मनुष्य के चोले मेंआने का कोई लाभ है तो सिर्फ यही है।इस चोले को यह फख या गौरव प्राप्त है कि इसमें बैठकर परमात्मा से मिलाप किया जा सकता है। *🙏🏻Waheguru jio🙏🏻*\n",
            "Rsji🙏 Rekha lohani\n",
            "Radha swami  ji\n",
            "Radha swami ji\n",
            "Radha swami ji\n",
            "Radhasoamiji👏🏻👏🏻 Mrng sewa me 🚗 Kamlesh Kewlani\n",
            "Guru ki pyarri sadh sanget ji Radhasoamiji👏🏻👏🏻\n",
            "Radhasoamiji👏🏻👏🏻\n",
            "Radhasoamiji👏🏻👏🏻 Mrng sewa me 🚗 Kamlesh Kewlani Preeti ji Lathi Time 6:15 AM KESHAV STORE  Pushpa ji Sangtani Reshma ji Jairamdas ji Time 6:25 AM SALASAR BALAJI 👏🏻👏🏻\n",
            "👏🏻Radhasoamiji👏🏻\n",
            "Versha ji Panjwani 🙏\n",
            "Radha swami ji\n",
            "Radha swami baba ji🌷🌷🙏🙏\n",
            "Radha swami ji\n",
            "Radha swami ji\n"
          ]
        }
      ]
    }
  ]
}